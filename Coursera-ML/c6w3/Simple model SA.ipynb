{
 "cells": [
  {
   "cell_type": "markdown",
   "metadata": {},
   "source": [
    "Данное задание является соревнованием на kaggle\n",
    "\n",
    "https://www.kaggle.com/c/simplesentiment/data"
   ]
  },
  {
   "cell_type": "code",
   "execution_count": 1,
   "metadata": {},
   "outputs": [],
   "source": [
    "import numpy as np\n",
    "import pandas as pd "
   ]
  },
  {
   "cell_type": "markdown",
   "metadata": {},
   "source": [
    "Загружаем и просматриваем данные"
   ]
  },
  {
   "cell_type": "code",
   "execution_count": 188,
   "metadata": {},
   "outputs": [],
   "source": [
    "train_df = pd.read_csv('products_sentiment_train.tsv', sep='\\t', header=None)\n",
    "\n",
    "test_df = pd.read_csv('products_sentiment_test.tsv', sep='\\t', index_col='Id')\n",
    "\n",
    "sample_subm = pd.read_csv('products_sentiment_sample_submission.csv', sep=',', index_col='Id')"
   ]
  },
  {
   "cell_type": "code",
   "execution_count": 189,
   "metadata": {},
   "outputs": [
    {
     "data": {
      "text/html": [
       "<div>\n",
       "<style scoped>\n",
       "    .dataframe tbody tr th:only-of-type {\n",
       "        vertical-align: middle;\n",
       "    }\n",
       "\n",
       "    .dataframe tbody tr th {\n",
       "        vertical-align: top;\n",
       "    }\n",
       "\n",
       "    .dataframe thead th {\n",
       "        text-align: right;\n",
       "    }\n",
       "</style>\n",
       "<table border=\"1\" class=\"dataframe\">\n",
       "  <thead>\n",
       "    <tr style=\"text-align: right;\">\n",
       "      <th></th>\n",
       "      <th>text</th>\n",
       "      <th>target</th>\n",
       "    </tr>\n",
       "  </thead>\n",
       "  <tbody>\n",
       "    <tr>\n",
       "      <th>0</th>\n",
       "      <td>2 . take around 10,000 640x480 pictures .</td>\n",
       "      <td>1</td>\n",
       "    </tr>\n",
       "    <tr>\n",
       "      <th>1</th>\n",
       "      <td>i downloaded a trial version of computer assoc...</td>\n",
       "      <td>1</td>\n",
       "    </tr>\n",
       "    <tr>\n",
       "      <th>2</th>\n",
       "      <td>the wrt54g plus the hga7t is a perfect solutio...</td>\n",
       "      <td>1</td>\n",
       "    </tr>\n",
       "    <tr>\n",
       "      <th>3</th>\n",
       "      <td>i dont especially like how music files are uns...</td>\n",
       "      <td>0</td>\n",
       "    </tr>\n",
       "    <tr>\n",
       "      <th>4</th>\n",
       "      <td>i was using the cheapie pail ... and it worked...</td>\n",
       "      <td>1</td>\n",
       "    </tr>\n",
       "  </tbody>\n",
       "</table>\n",
       "</div>"
      ],
      "text/plain": [
       "                                                text  target\n",
       "0          2 . take around 10,000 640x480 pictures .       1\n",
       "1  i downloaded a trial version of computer assoc...       1\n",
       "2  the wrt54g plus the hga7t is a perfect solutio...       1\n",
       "3  i dont especially like how music files are uns...       0\n",
       "4  i was using the cheapie pail ... and it worked...       1"
      ]
     },
     "execution_count": 189,
     "metadata": {},
     "output_type": "execute_result"
    }
   ],
   "source": [
    "train_df.columns = ['text', 'target']\n",
    "\n",
    "train_df.head()"
   ]
  },
  {
   "cell_type": "markdown",
   "metadata": {},
   "source": [
    "Оценим соотношение классов в выборке"
   ]
  },
  {
   "cell_type": "code",
   "execution_count": 35,
   "metadata": {},
   "outputs": [
    {
     "data": {
      "text/plain": [
       "((726, 2), (1274, 2))"
      ]
     },
     "execution_count": 35,
     "metadata": {},
     "output_type": "execute_result"
    }
   ],
   "source": [
    "train_df[train_df.target==0].shape, train_df[train_df.target == 1].shape"
   ]
  },
  {
   "cell_type": "markdown",
   "metadata": {},
   "source": [
    "Разобьем выборку на признаки (text) и непосредственно целевую переменную (target)"
   ]
  },
  {
   "cell_type": "code",
   "execution_count": 111,
   "metadata": {},
   "outputs": [],
   "source": [
    "from sklearn.model_selection import cross_val_score, GridSearchCV\n",
    "\n",
    "X_train, y_train = train_df.text, train_df.target"
   ]
  },
  {
   "cell_type": "markdown",
   "metadata": {},
   "source": [
    "Задача соревнования подразумевает метрику accuracy.\n",
    "Выберем какой классификатор и векторизатор лучше. Заодно, подберем количество n-грам"
   ]
  },
  {
   "cell_type": "code",
   "execution_count": 115,
   "metadata": {},
   "outputs": [],
   "source": [
    "from sklearn.pipeline import Pipeline\n",
    "\n",
    "from sklearn.feature_extraction.text import CountVectorizer\n",
    "from sklearn.feature_extraction.text import TfidfVectorizer\n",
    "\n",
    "from sklearn.linear_model import LogisticRegression\n",
    "from sklearn.svm import LinearSVC"
   ]
  },
  {
   "cell_type": "code",
   "execution_count": 116,
   "metadata": {},
   "outputs": [
    {
     "name": "stdout",
     "output_type": "stream",
     "text": [
      "CountVectorizer(analyzer='word', binary=False, decode_error='strict',\n",
      "        dtype=<class 'numpy.int64'>, encoding='utf-8', input='content',\n",
      "        lowercase=True, max_df=1.0, max_features=None, min_df=1,\n",
      "        ngram_range=(1, 1), preprocessor=None, stop_words=None,\n",
      "        strip_accents=None, token_pattern='(?u)\\\\b\\\\w\\\\w+\\\\b',\n",
      "        tokenizer=None, vocabulary=None) \n",
      " LogisticRegression(C=1.0, class_weight=None, dual=False, fit_intercept=True,\n",
      "          intercept_scaling=1, max_iter=100, multi_class='ovr', n_jobs=1,\n",
      "          penalty='l2', random_state=None, solver='liblinear', tol=0.0001,\n",
      "          verbose=0, warm_start=False) \n",
      " {'count_vect__ngram_range': (1, 2)} \n",
      " 0.7705\n",
      "--------------------------------------------------\n",
      "CountVectorizer(analyzer='word', binary=False, decode_error='strict',\n",
      "        dtype=<class 'numpy.int64'>, encoding='utf-8', input='content',\n",
      "        lowercase=True, max_df=1.0, max_features=None, min_df=1,\n",
      "        ngram_range=(1, 1), preprocessor=None, stop_words=None,\n",
      "        strip_accents=None, token_pattern='(?u)\\\\b\\\\w\\\\w+\\\\b',\n",
      "        tokenizer=None, vocabulary=None) \n",
      " LinearSVC(C=1.0, class_weight=None, dual=True, fit_intercept=True,\n",
      "     intercept_scaling=1, loss='squared_hinge', max_iter=1000,\n",
      "     multi_class='ovr', penalty='l2', random_state=None, tol=0.0001,\n",
      "     verbose=0) \n",
      " {'count_vect__ngram_range': (1, 3)} \n",
      " 0.7645\n",
      "--------------------------------------------------\n",
      "TfidfVectorizer(analyzer='word', binary=False, decode_error='strict',\n",
      "        dtype=<class 'numpy.int64'>, encoding='utf-8', input='content',\n",
      "        lowercase=True, max_df=1.0, max_features=None, min_df=1,\n",
      "        ngram_range=(1, 1), norm='l2', preprocessor=None, smooth_idf=True,\n",
      "        stop_words=None, strip_accents=None, sublinear_tf=False,\n",
      "        token_pattern='(?u)\\\\b\\\\w\\\\w+\\\\b', tokenizer=None, use_idf=True,\n",
      "        vocabulary=None) \n",
      " LogisticRegression(C=1.0, class_weight=None, dual=False, fit_intercept=True,\n",
      "          intercept_scaling=1, max_iter=100, multi_class='ovr', n_jobs=1,\n",
      "          penalty='l2', random_state=None, solver='liblinear', tol=0.0001,\n",
      "          verbose=0, warm_start=False) \n",
      " {'count_vect__ngram_range': (1, 1)} \n",
      " 0.7665\n",
      "--------------------------------------------------\n",
      "TfidfVectorizer(analyzer='word', binary=False, decode_error='strict',\n",
      "        dtype=<class 'numpy.int64'>, encoding='utf-8', input='content',\n",
      "        lowercase=True, max_df=1.0, max_features=None, min_df=1,\n",
      "        ngram_range=(1, 1), norm='l2', preprocessor=None, smooth_idf=True,\n",
      "        stop_words=None, strip_accents=None, sublinear_tf=False,\n",
      "        token_pattern='(?u)\\\\b\\\\w\\\\w+\\\\b', tokenizer=None, use_idf=True,\n",
      "        vocabulary=None) \n",
      " LinearSVC(C=1.0, class_weight=None, dual=True, fit_intercept=True,\n",
      "     intercept_scaling=1, loss='squared_hinge', max_iter=1000,\n",
      "     multi_class='ovr', penalty='l2', random_state=None, tol=0.0001,\n",
      "     verbose=0) \n",
      " {'count_vect__ngram_range': (1, 3)} \n",
      " 0.7905\n",
      "--------------------------------------------------\n",
      "Wall time: 41.7 s\n"
     ]
    }
   ],
   "source": [
    "%%time\n",
    "vects = [CountVectorizer(), TfidfVectorizer()]\n",
    "models = [LogisticRegression(), LinearSVC()]\n",
    "\n",
    "params = {\n",
    "            'count_vect__ngram_range' : [(1, 1), (1,2), (1,3), (1, 4), (1, 5), (1, 6)], \n",
    "         }\n",
    "\n",
    "for i in vects:\n",
    "    for j in models:\n",
    "        pipe = Pipeline([\n",
    "            ('count_vect', i),\n",
    "            ('log_reg', j)\n",
    "        ])\n",
    "        \n",
    "        cls = GridSearchCV(pipe, params, cv=5)\n",
    "        cls.fit(X_train, y_train)\n",
    "        print(i, '\\n', j,'\\n', cls.best_params_, '\\n', cls.best_score_)\n",
    "        print('-' * 50)"
   ]
  },
  {
   "cell_type": "markdown",
   "metadata": {},
   "source": [
    "Выберем две модели:\n",
    "\n",
    "    TfidfVectorizer(ngram_range=(1,3)), LinearSVC\n",
    "    CountVectorizer(ngram_range=(1,2)), LogisticRegression"
   ]
  },
  {
   "cell_type": "code",
   "execution_count": 117,
   "metadata": {},
   "outputs": [
    {
     "name": "stdout",
     "output_type": "stream",
     "text": [
      "[nltk_data] Downloading package stopwords to\n",
      "[nltk_data]     C:\\Users\\Цифра-2\\AppData\\Roaming\\nltk_data...\n",
      "[nltk_data]   Package stopwords is already up-to-date!\n"
     ]
    }
   ],
   "source": [
    "import nltk\n",
    "\n",
    "nltk.download('stopwords')\n",
    "stop_words = nltk.corpus.stopwords.words('english')"
   ]
  },
  {
   "cell_type": "markdown",
   "metadata": {},
   "source": [
    "Подберем к ним гиперпараметры:"
   ]
  },
  {
   "cell_type": "code",
   "execution_count": 121,
   "metadata": {},
   "outputs": [
    {
     "name": "stdout",
     "output_type": "stream",
     "text": [
      "{'count_vect__stop_words': None, 'log_reg__C': 4.196551724137931} \n",
      " 0.7945\n",
      "{'count_vect__stop_words': None, 'log_reg__C': 2.831034482758621} \n",
      " 0.7765\n",
      "Wall time: 2min 30s\n"
     ]
    }
   ],
   "source": [
    "%%time\n",
    "params = {\n",
    "            'count_vect__stop_words' : [None, stop_words],\n",
    "            'log_reg__C' : np.linspace(0.1, 10, 30),\n",
    "        }\n",
    "\n",
    "pipe_1 = Pipeline([\n",
    "    ('count_vect', TfidfVectorizer(ngram_range=(1,4))),\n",
    "    ('log_reg', LinearSVC())\n",
    "    ])\n",
    "        \n",
    "cls_1 = GridSearchCV(pipe_1, params, cv=5)\n",
    "cls_1.fit(X_train, y_train)\n",
    "print(cls_1.best_params_, '\\n', cls_1.best_score_)\n",
    "\n",
    "pipe_2 = Pipeline([\n",
    "    ('count_vect', CountVectorizer(ngram_range=(1,2))),\n",
    "    ('log_reg', LogisticRegression())\n",
    "    ])\n",
    "\n",
    "cls_2 = GridSearchCV(pipe_2, params, cv=5)\n",
    "cls_2.fit(X_train, y_train)\n",
    "print(cls_2.best_params_, '\\n', cls_2.best_score_)"
   ]
  },
  {
   "cell_type": "markdown",
   "metadata": {},
   "source": [
    "Будем использовать наилучшие параметры С, в зависимости от модели. \n",
    "При этом, исключение стоп-слов не дает прироста качества"
   ]
  },
  {
   "cell_type": "markdown",
   "metadata": {},
   "source": [
    "Подберем параметр min_df"
   ]
  },
  {
   "cell_type": "code",
   "execution_count": 125,
   "metadata": {},
   "outputs": [
    {
     "name": "stdout",
     "output_type": "stream",
     "text": [
      "min_df= 1\n",
      "model_1: 0.783998391194793\n",
      "model_1: 0.7680071375723551\n",
      "min_df= 2\n",
      "model_1: 0.7585006295650975\n",
      "model_1: 0.7630066348207278\n",
      "min_df= 3\n",
      "model_1: 0.7455071263167216\n",
      "model_1: 0.7595068831950392\n",
      "min_df= 4\n",
      "model_1: 0.7350071210640925\n",
      "model_1: 0.7530086308197252\n"
     ]
    }
   ],
   "source": [
    "min_df_arr = range(1, 5)\n",
    "\n",
    "for min_df in min_df_arr:\n",
    "    print('min_df=', min_df)\n",
    "    \n",
    "    pipe_1 = Pipeline([\n",
    "        ('count_vect', TfidfVectorizer(min_df=min_df, ngram_range=(1,4))),\n",
    "        ('log_reg', LinearSVC(C=4.196551724137931))\n",
    "    ])\n",
    "    \n",
    "    score = np.mean(cross_val_score(pipe_1, X_train, y_train))\n",
    "    print('model_1:', score)\n",
    "\n",
    "    pipe_2 = Pipeline([\n",
    "        ('count_vect', CountVectorizer(min_df=min_df, ngram_range=(1,2))),\n",
    "        ('log_reg', LogisticRegression(C=2.831034482758621))\n",
    "    ])\n",
    "\n",
    "    score = np.mean(cross_val_score(pipe_2, X_train, y_train))\n",
    "    print('model_1:', score)\n"
   ]
  },
  {
   "cell_type": "markdown",
   "metadata": {},
   "source": [
    "Подбор гиперпараметра min_df не дал улучшения качества"
   ]
  },
  {
   "cell_type": "markdown",
   "metadata": {},
   "source": [
    "Заново обучим модели и проверим, какая из них даст лучший результат на тестовой выборке (путем submission на kaggle)"
   ]
  },
  {
   "cell_type": "code",
   "execution_count": 126,
   "metadata": {},
   "outputs": [
    {
     "data": {
      "text/plain": [
       "(0.783998391194793, 0.7680071375723551)"
      ]
     },
     "execution_count": 126,
     "metadata": {},
     "output_type": "execute_result"
    }
   ],
   "source": [
    "pipe_1 = Pipeline([\n",
    "        ('count_vect', TfidfVectorizer(ngram_range=(1,4))),\n",
    "        ('log_reg', LinearSVC(C=4.196551724137931))\n",
    "])\n",
    "\n",
    "pipe_2 = Pipeline([\n",
    "        ('count_vect', CountVectorizer(ngram_range=(1,2))),\n",
    "        ('log_reg', LogisticRegression(C=2.831034482758621))\n",
    "])\n",
    "\n",
    "np.mean(cross_val_score(pipe_1, X_train, y_train)),\\\n",
    "np.mean(cross_val_score(pipe_2, X_train, y_train))"
   ]
  },
  {
   "cell_type": "code",
   "execution_count": 209,
   "metadata": {},
   "outputs": [],
   "source": [
    "cls_1 = pipe_1.fit(X_train, y_train)\n",
    "test_df['y'] = cls_1.predict(test_df.text)"
   ]
  },
  {
   "cell_type": "code",
   "execution_count": 210,
   "metadata": {},
   "outputs": [],
   "source": [
    "ans_1 = test_df[[\"y\"]]"
   ]
  },
  {
   "cell_type": "code",
   "execution_count": 211,
   "metadata": {},
   "outputs": [],
   "source": [
    "ans_1.to_csv('submission_1.csv')"
   ]
  },
  {
   "cell_type": "code",
   "execution_count": 212,
   "metadata": {},
   "outputs": [],
   "source": [
    "sample = pd.read_csv('submission_1.csv', index_col=\"Id\")"
   ]
  },
  {
   "cell_type": "markdown",
   "metadata": {},
   "source": [
    "Текущая оценка 0.80888"
   ]
  },
  {
   "cell_type": "markdown",
   "metadata": {},
   "source": [
    "Проверим другую модель"
   ]
  },
  {
   "cell_type": "code",
   "execution_count": 213,
   "metadata": {},
   "outputs": [],
   "source": [
    "cls_2 = pipe_2.fit(X_train, y_train)\n",
    "test_df['y'] = cls_2.predict(test_df.text)\n",
    "ans_2 = test_df[[\"y\"]]\n",
    "ans_2.to_csv('submission_2.csv')"
   ]
  },
  {
   "cell_type": "markdown",
   "metadata": {},
   "source": [
    "Текущая оценка 0.79111"
   ]
  }
 ],
 "metadata": {
  "kernelspec": {
   "display_name": "Python 3",
   "language": "python",
   "name": "python3"
  },
  "language_info": {
   "codemirror_mode": {
    "name": "ipython",
    "version": 3
   },
   "file_extension": ".py",
   "mimetype": "text/x-python",
   "name": "python",
   "nbconvert_exporter": "python",
   "pygments_lexer": "ipython3",
   "version": "3.6.5"
  }
 },
 "nbformat": 4,
 "nbformat_minor": 2
}
